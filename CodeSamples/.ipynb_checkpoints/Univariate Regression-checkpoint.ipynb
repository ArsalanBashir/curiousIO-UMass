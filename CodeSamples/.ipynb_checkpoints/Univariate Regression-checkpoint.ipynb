{
 "cells": [
  {
   "cell_type": "markdown",
   "metadata": {},
   "source": [
    "## Making Predictions"
   ]
  },
  {
   "cell_type": "markdown",
   "metadata": {},
   "source": [
    "### Meet the Data Set\n",
    "\n",
    "Number of [Chirps/Second and Temperature](http://mathbits.com/MathBits/TISection/Statistics2/linearREAL.htm) in Degree Fahrenheit. This is what the data looks like — "
   ]
  },
  {
   "cell_type": "code",
   "execution_count": 6,
   "metadata": {
    "collapsed": false
   },
   "outputs": [
    {
     "data": {
      "text/plain": [
       "<matplotlib.collections.PathCollection at 0x10e9b9210>"
      ]
     },
     "execution_count": 6,
     "metadata": {},
     "output_type": "execute_result"
    },
    {
     "data": {
      "image/png": "[encoded data removed]",
      "text/plain": [
       "<matplotlib.figure.Figure at 0x10e8b5290>"
      ]
     },
     "metadata": {},
     "output_type": "display_data"
    }
   ],
   "source": [
    "%matplotlib inline\n",
    "\n",
    "import numpy as np\n",
    "import matplotlib.pyplot as plt\n",
    "\n",
    "data = np.genfromtxt('data.csv', delimiter=',', skip_header=1, skip_footer=0, names=['x', 'y'])\n",
    "\n",
    "plt.scatter(data['x'], data['y'])"
   ]
  },
  {
   "cell_type": "markdown",
   "metadata": {},
   "source": [
    "### Is there a trend? Well, let's find out!\n",
    "\n",
    "Mathematically, the Pearson correlation coefficient measures the linear relationship between two datasets. Strictly speaking, Pearson's correlation requires that each dataset be normally distributed.\n",
    "\n",
    "<img src=\"pearson.png\" style=\"height: 200px;\">"
   ]
  },
  {
   "cell_type": "code",
   "execution_count": 10,
   "metadata": {
    "collapsed": false
   },
   "outputs": [
    {
     "data": {
      "text/plain": [
       "(0.83204245860094195, 0.00011946114714388838)"
      ]
     },
     "execution_count": 10,
     "metadata": {},
     "output_type": "execute_result"
    }
   ],
   "source": [
    "from scipy.stats.stats import pearsonr\n",
    "\n",
    "pearsonr(data['x'], data['y'])"
   ]
  },
  {
   "cell_type": "markdown",
   "metadata": {},
   "source": [
    "**This means there is certainly a linear trend in the data. Well, let's use that to do cool stuff now!**"
   ]
  },
  {
   "cell_type": "markdown",
   "metadata": {},
   "source": [
    "### Blueprint a Hypothesis Function\n",
    "\n",
    "We plot a line, to figure out the linear trend between the two parameters. Let's use the standard definition of a line. We call this function a \"hypothesis function\" with two parameters, namely 'Theta 1' and 'Theta 2'.\n",
    "\n",
    "We just assume any values for 't0' and 't1'. \n"
   ]
  },
  {
   "cell_type": "code",
   "execution_count": 206,
   "metadata": {
    "collapsed": false
   },
   "outputs": [
    {
     "data": {
      "text/plain": [
       "[<matplotlib.lines.Line2D at 0x12b022b90>]"
      ]
     },
     "execution_count": 206,
     "metadata": {},
     "output_type": "execute_result"
    },
    {
     "data": {
      "image/png": "[encoded data removed]",
      "text/plain": [
       "<matplotlib.figure.Figure at 0x11ebc9150>"
      ]
     },
     "metadata": {},
     "output_type": "display_data"
    }
   ],
   "source": [
    "%matplotlib inline\n",
    "\n",
    "import numpy as np\n",
    "import matplotlib.pyplot as plt\n",
    "\n",
    "data = np.genfromtxt('data.csv', delimiter=',', skip_header=1, skip_footer=0, names=['x', 'y'])\n",
    "plt.scatter(data['x'], data['y'])\n",
    "\n",
    "t0 = 0\n",
    "t1 = 0\n",
    "\n",
    "#t0 = -0.578\n",
    "#t1 = 4.809\n",
    "\n",
    "def hypothesis(t0, t1, x):\n",
    "    return t0 + (t1 * x)\n",
    "\n",
    "y = hypothesis(t0, t1, data['x'])\n",
    "plt.plot(data['x'], y)  "
   ]
  },
  {
   "cell_type": "markdown",
   "metadata": {},
   "source": [
    "Similarly, with different values of theta 1 and theta 2 — "
   ]
  },
  {
   "cell_type": "code",
   "execution_count": 207,
   "metadata": {
    "collapsed": false
   },
   "outputs": [
    {
     "data": {
      "text/plain": [
       "[<matplotlib.lines.Line2D at 0x11cbe5950>]"
      ]
     },
     "execution_count": 207,
     "metadata": {},
     "output_type": "execute_result"
    },
    {
     "data": {
      "image/png": "[encoded data removed]",
      "text/plain": [
       "<matplotlib.figure.Figure at 0x11caf8e50>"
      ]
     },
     "metadata": {},
     "output_type": "display_data"
    }
   ],
   "source": [
    "%matplotlib inline\n",
    "\n",
    "import numpy as np\n",
    "import matplotlib.pyplot as plt\n",
    "\n",
    "data = np.genfromtxt('data.csv', delimiter=',', skip_header=1, skip_footer=0, names=['x', 'y'])\n",
    "plt.scatter(data['x'], data['y'])\n",
    "\n",
    "t01 = 1\n",
    "t11 = 1\n",
    "\n",
    "t02 = 3\n",
    "t12 = 3\n",
    "\n",
    "t03 = 4\n",
    "t13 = 4\n",
    "\n",
    "def hypothesis(t0, t1, x):\n",
    "    return t0 + (t1 * x)\n",
    "\n",
    "y1 = hypothesis(t01, t11, data['x'])\n",
    "plt.plot(data['x'], y1)  \n",
    "\n",
    "y2 = hypothesis(t02, t12, data['x'])\n",
    "plt.plot(data['x'], y2)  \n",
    "\n",
    "y3 = hypothesis(t03, t13, data['x'])\n",
    "plt.plot(data['x'], y3)  "
   ]
  },
  {
   "cell_type": "markdown",
   "metadata": {},
   "source": [
    "### How Wrong Were We\n",
    "\n",
    "We use a cost function to measure how wrong or correct our assumption of 'm' and 'c' was. "
   ]
  },
  {
   "cell_type": "code",
   "execution_count": 119,
   "metadata": {
    "collapsed": false
   },
   "outputs": [
    {
     "data": {
      "text/plain": [
       "<mpl_toolkits.mplot3d.art3d.Poly3DCollection at 0x123700610>"
      ]
     },
     "execution_count": 119,
     "metadata": {},
     "output_type": "execute_result"
    },
    {
     "data": {
      "image/png": "[encoded data removed]",
      "text/plain": [
       "<matplotlib.figure.Figure at 0x11ca8dc10>"
      ]
     },
     "metadata": {},
     "output_type": "display_data"
    }
   ],
   "source": [
    "%matplotlib inline\n",
    "\n",
    "import numpy as np\n",
    "import matplotlib.pyplot as plt\n",
    "from matplotlib import cm\n",
    "from mpl_toolkits.mplot3d import Axes3D\n",
    "\n",
    "fig = plt.figure()\n",
    "ax = fig.add_subplot(111, projection='3d')\n",
    "\n",
    "data = np.genfromtxt('data.csv', delimiter=',', skip_header=1, skip_footer=0, names=['x', 'y'])\n",
    "\n",
    "t0 = np.arange( -50, 50, 0.5)\n",
    "t1 = np.arange(-50, 50, 0.5)\n",
    "\n",
    "t0, t1 = np.meshgrid(t0, t1)\n",
    "\n",
    "def hypothesis(t0, t1, x):\n",
    "    return t0 + (t1 * x)\n",
    "\n",
    "def cost(m, t0, t1, x):\n",
    "    sum = 0\n",
    "    for i in range(0,m):\n",
    "        sum += (hypothesis(t0, t1, data['x'][i]) - data['y'][i])**2\n",
    "    return ((0.5/m)*sum)\n",
    "\n",
    "ax.plot_surface(t0, t1, cost(len(data['x']), t0, t1, data['x']), rstride=1, cstride=1, cmap=cm.coolwarm, linewidth=0, antialiased=False)"
   ]
  },
  {
   "cell_type": "markdown",
   "metadata": {},
   "source": [
    "### Roll Down the Hill — automagically.\n",
    "\n",
    "Use a gradient descent algorithm to move towards the most minimum t0 and t1"
   ]
  },
  {
   "cell_type": "code",
   "execution_count": 204,
   "metadata": {
    "collapsed": false
   },
   "outputs": [
    {
     "data": {
      "text/plain": [
       "(-0.578, 4.809)"
      ]
     },
     "execution_count": 204,
     "metadata": {},
     "output_type": "execute_result"
    }
   ],
   "source": [
    "data = np.genfromtxt('data.csv', delimiter=',', skip_header=1, skip_footer=0, names=['x', 'y'])\n",
    "\n",
    "at0 = -0.922\n",
    "at1 = -0.844\n",
    "\n",
    "def hypothesis(t0, t1, x):\n",
    "    return t0 + (t1 * x)\n",
    "\n",
    "def descent_t0(m, t0, t1):\n",
    "    sum = 0\n",
    "    for i in range(0,m):\n",
    "        sum += (hypothesis(t0, t1, data['x'][i]) - data['y'][i])\n",
    "    return ((1.0/m)*sum)\n",
    "\n",
    "def descent_t1(m, t0, t1):\n",
    "    sum = 0\n",
    "    for i in range(0,m):\n",
    "        sum += (hypothesis(t0, t1, data['x'][i]) - data['y'][i])*data['x'][i]\n",
    "    return ((1.0/m)*sum)\n",
    "\n",
    "learning_rate = 0.001\n",
    "\n",
    "for a in range(0, 1000):\n",
    "    temp_t0 = at0 - (learning_rate * descent_t0(len(data['x']), at0, at1))\n",
    "    temp_t1 = at1 - (learning_rate * descent_t1(len(data['x']), at0, at1))\n",
    "\n",
    "    at0 = float('%.3f' % temp_t0)\n",
    "    at1 = float('%.3f' % temp_t1)\n",
    "\n",
    "at0, at1"
   ]
  },
  {
   "cell_type": "markdown",
   "metadata": {},
   "source": [
    "### We did it, lads and lassies!"
   ]
  },
  {
   "cell_type": "code",
   "execution_count": 209,
   "metadata": {
    "collapsed": false
   },
   "outputs": [
    {
     "data": {
      "text/plain": [
       "[<matplotlib.lines.Line2D at 0x11adfb450>]"
      ]
     },
     "execution_count": 209,
     "metadata": {},
     "output_type": "execute_result"
    },
    {
     "data": {
      "image/png": "[encoded data removed]",
      "text/plain": [
       "<matplotlib.figure.Figure at 0x120441450>"
      ]
     },
     "metadata": {},
     "output_type": "display_data"
    }
   ],
   "source": [
    "%matplotlib inline\n",
    "\n",
    "import numpy as np\n",
    "import matplotlib.pyplot as plt\n",
    "\n",
    "data = np.genfromtxt('data.csv', delimiter=',', skip_header=1, skip_footer=0, names=['x', 'y'])\n",
    "plt.scatter(data['x'], data['y'])\n",
    "\n",
    "t0 = -0.578\n",
    "t1 = 4.809\n",
    "\n",
    "def hypothesis(t0, t1, x):\n",
    "    return t0 + (t1 * x)\n",
    "\n",
    "y = hypothesis(t0, t1, data['x'])\n",
    "plt.plot(data['x'], y)  "
   ]
  },
  {
   "cell_type": "code",
   "execution_count": 210,
   "metadata": {
    "collapsed": false
   },
   "outputs": [
    {
     "data": {
      "text/plain": [
       "85.984"
      ]
     },
     "execution_count": 210,
     "metadata": {},
     "output_type": "execute_result"
    }
   ],
   "source": [
    "t0 = -0.578\n",
    "t1 = 4.809\n",
    "\n",
    "def hypothesis(t0, t1, x):\n",
    "    return t0 + (t1 * x)\n",
    "\n",
    "hypothesis(t0, t1, 18)"
   ]
  },
  {
   "cell_type": "markdown",
   "metadata": {},
   "source": [
    "### 85.98 Degrees Fahrenheit is probably the temperature, if you hear 18 Chirps per Second"
   ]
  },
  {
   "cell_type": "code",
   "execution_count": null,
   "metadata": {
    "collapsed": true
   },
   "outputs": [],
   "source": []
  }
 ],
 "metadata": {
  "kernelspec": {
   "display_name": "Python 2",
   "language": "python",
   "name": "python2"
  },
  "language_info": {
   "codemirror_mode": {
    "name": "ipython",
    "version": 2
   },
   "file_extension": ".py",
   "mimetype": "text/x-python",
   "name": "python",
   "nbconvert_exporter": "python",
   "pygments_lexer": "ipython2",
   "version": "2.7.8"
  }
 },
 "nbformat": 4,
 "nbformat_minor": 0
}
